{
  "cells": [
    {
      "cell_type": "markdown",
      "metadata": {
        "id": "view-in-github",
        "colab_type": "text"
      },
      "source": [
        "<a href=\"https://colab.research.google.com/github/4ndr3up0n5/computer_science_tutorials/blob/main/L1_Matrices.ipynb\" target=\"_parent\"><img src=\"https://colab.research.google.com/assets/colab-badge.svg\" alt=\"Open In Colab\"/></a>"
      ]
    },
    {
      "cell_type": "markdown",
      "metadata": {
        "id": "lLfggMQmkGNX"
      },
      "source": [
        "# Práctica 1. Matrices\n",
        "\n",
        "### 1. Introducción\n",
        "\n",
        "\n",
        "A lo largo de las prácticas utilizaremos principalmente el paquete de Python `numpy` y también el subpaquete `linalg` de `scipy`, luego es **muy importante** importarlos siempre antes de empezar la sesión. "
      ]
    },
    {
      "cell_type": "code",
      "execution_count": 3,
      "metadata": {
        "id": "G9W94neWkGNj"
      },
      "outputs": [],
      "source": [
        "import numpy as np \n",
        "import scipy.linalg as la "
      ]
    },
    {
      "cell_type": "markdown",
      "metadata": {
        "id": "3mVe5ju2kGNn"
      },
      "source": [
        "Por comodidad, los hemos llamado con un nombre abreviado. Si se nos olvida importarlos, al ejecutar algún comando que los necesite nos saldrá un mensaje de error del tipo siguiente: `NameError: name 'np' is not defined`.\n",
        "\n",
        "**Los escalares** se introducen directamente y, en el caso de números decimales, separando la parte entera de la decimal con un\n",
        "punto. "
      ]
    },
    {
      "cell_type": "code",
      "execution_count": 4,
      "metadata": {
        "scrolled": true,
        "colab": {
          "base_uri": "https://localhost:8080/"
        },
        "id": "0bfXDwkOkGNo",
        "outputId": "6ff7be02-e33d-493b-cac9-6f88149f9f3a"
      },
      "outputs": [
        {
          "output_type": "stream",
          "name": "stdout",
          "text": [
            "[a,b] = [2, 3.5]\n"
          ]
        }
      ],
      "source": [
        "a=2\n",
        "b=3.5\n",
        "print('[a,b] =',[a,b])"
      ]
    },
    {
      "cell_type": "markdown",
      "metadata": {
        "id": "ju3OkIJIkGNp"
      },
      "source": [
        "Podemos **redondear** un número concreto $x$ a $d$ decimales mediante `round(x, d)`."
      ]
    },
    {
      "cell_type": "code",
      "execution_count": 34,
      "metadata": {
        "colab": {
          "base_uri": "https://localhost:8080/"
        },
        "id": "k2w5Ue0fkGNq",
        "outputId": "7e802bc4-9eda-4943-b281-cf9eccae414b"
      },
      "outputs": [
        {
          "output_type": "execute_result",
          "data": {
            "text/plain": [
              "3.14"
            ]
          },
          "metadata": {},
          "execution_count": 34
        }
      ],
      "source": [
        "round(3.1415926, 2)"
      ]
    },
    {
      "cell_type": "markdown",
      "metadata": {
        "id": "fQb0DQXikGNr"
      },
      "source": [
        "### 2. Matrices"
      ]
    },
    {
      "cell_type": "markdown",
      "metadata": {
        "id": "3UHQGHkdkGNr"
      },
      "source": [
        "Con el comando `np.array([ vector ])` podemos crear listas como la anterior, pero además podremos operar con ellas. Observemos que el _output_ obtenido es un poco diferente si usamos `print`."
      ]
    },
    {
      "cell_type": "code",
      "execution_count": 5,
      "metadata": {
        "colab": {
          "base_uri": "https://localhost:8080/"
        },
        "id": "Tg4voiXHkGNs",
        "outputId": "4201c66a-d324-47dd-815e-6e9fc148369e"
      },
      "outputs": [
        {
          "output_type": "execute_result",
          "data": {
            "text/plain": [
              "array([[6, 9]])"
            ]
          },
          "metadata": {},
          "execution_count": 5
        }
      ],
      "source": [
        "v=np.array([[2,3]])\n",
        "3*v"
      ]
    },
    {
      "cell_type": "code",
      "execution_count": 6,
      "metadata": {
        "colab": {
          "base_uri": "https://localhost:8080/"
        },
        "id": "2zKOVLV6kGNu",
        "outputId": "0ccf703c-c0b7-4729-c2ea-31e994fdd420"
      },
      "outputs": [
        {
          "output_type": "stream",
          "name": "stdout",
          "text": [
            "[[6 9]]\n"
          ]
        }
      ],
      "source": [
        "print(3*v)"
      ]
    },
    {
      "cell_type": "markdown",
      "metadata": {
        "id": "fdg8MMbykGNv"
      },
      "source": [
        "También es posible redondear en global todas las entradas de un vector con `np.round(v, d)`."
      ]
    },
    {
      "cell_type": "code",
      "execution_count": 8,
      "metadata": {
        "colab": {
          "base_uri": "https://localhost:8080/"
        },
        "id": "meBcVFHCkGNv",
        "outputId": "1910d50a-aa18-492a-edaf-da465fb65e3e"
      },
      "outputs": [
        {
          "output_type": "execute_result",
          "data": {
            "text/plain": [
              "array([[0.11, 1.22]])"
            ]
          },
          "metadata": {},
          "execution_count": 8
        }
      ],
      "source": [
        "np.round(np.array([[1/9, 11/9]]), 2)"
      ]
    },
    {
      "cell_type": "markdown",
      "metadata": {
        "id": "V6w5OS7WkGNw"
      },
      "source": [
        "Los vectores los podemos introducir en modo fila o columna, y con varios vectores podemos crear también **matrices** de las dimensiones que deseemos."
      ]
    },
    {
      "cell_type": "code",
      "execution_count": 12,
      "metadata": {
        "id": "f2zY24qFkGNw"
      },
      "outputs": [],
      "source": [
        "v1=np.array([[1,2,3]])      # vector de dimensión (1,3)\n",
        "v2=np.array([[5],[7],[-1]])         # vector de dimensión (3,1)\n",
        "M=np.array([[1, 0, -3],[2, 5, 0],[1, 1, -4]])    # matriz de dimensión (3,3)"
      ]
    },
    {
      "cell_type": "code",
      "execution_count": 9,
      "metadata": {
        "colab": {
          "base_uri": "https://localhost:8080/"
        },
        "id": "YO20msSykGNx",
        "outputId": "476b98be-1fc8-444a-af32-8d678cdb3340"
      },
      "outputs": [
        {
          "output_type": "execute_result",
          "data": {
            "text/plain": [
              "array([[1, 2, 3]])"
            ]
          },
          "metadata": {},
          "execution_count": 9
        }
      ],
      "source": [
        "v1"
      ]
    },
    {
      "cell_type": "code",
      "execution_count": 10,
      "metadata": {
        "colab": {
          "base_uri": "https://localhost:8080/"
        },
        "id": "VAayGwE_kGNx",
        "outputId": "585c45e3-f160-4168-bbc2-1f1557dbe24b"
      },
      "outputs": [
        {
          "output_type": "stream",
          "name": "stdout",
          "text": [
            "[[ 1  0 -3]\n",
            " [ 2  5  0]\n",
            " [ 1  1 -4]]\n",
            "[[ 5]\n",
            " [ 7]\n",
            " [-1]]\n"
          ]
        }
      ],
      "source": [
        "print(M)\n",
        "print(v2)"
      ]
    },
    {
      "cell_type": "markdown",
      "metadata": {
        "id": "QuATeWNskGNy"
      },
      "source": [
        "Podemos comprobar las **dimensiones** de los vectores y la matriz anteriores añadiéndole `.shape` a sus nombres. Asimismo, con `.size` obtendremos el número total de elementos que poseen."
      ]
    },
    {
      "cell_type": "code",
      "execution_count": 13,
      "metadata": {
        "colab": {
          "base_uri": "https://localhost:8080/"
        },
        "id": "jcYqJt1XkGNy",
        "outputId": "e9dede4f-035f-4b90-c3a8-905d940d57bf"
      },
      "outputs": [
        {
          "output_type": "execute_result",
          "data": {
            "text/plain": [
              "(1, 3)"
            ]
          },
          "metadata": {},
          "execution_count": 13
        }
      ],
      "source": [
        "v1.shape"
      ]
    },
    {
      "cell_type": "code",
      "execution_count": 14,
      "metadata": {
        "colab": {
          "base_uri": "https://localhost:8080/"
        },
        "id": "5EcXn_fLkGNz",
        "outputId": "64369255-5cf8-4b9a-ccb7-0aec8e72aff0"
      },
      "outputs": [
        {
          "output_type": "execute_result",
          "data": {
            "text/plain": [
              "(3, 3)"
            ]
          },
          "metadata": {},
          "execution_count": 14
        }
      ],
      "source": [
        "M.shape"
      ]
    },
    {
      "cell_type": "code",
      "execution_count": 15,
      "metadata": {
        "colab": {
          "base_uri": "https://localhost:8080/"
        },
        "id": "ZSVgpvqYkGNz",
        "outputId": "7ba44a59-5aaa-430c-b453-7bcf95be8ee0"
      },
      "outputs": [
        {
          "output_type": "execute_result",
          "data": {
            "text/plain": [
              "3"
            ]
          },
          "metadata": {},
          "execution_count": 15
        }
      ],
      "source": [
        "v2.size"
      ]
    },
    {
      "cell_type": "code",
      "execution_count": 16,
      "metadata": {
        "colab": {
          "base_uri": "https://localhost:8080/"
        },
        "id": "ahD6o8wikGN0",
        "outputId": "e2ac1405-5f3d-41a5-f80e-43d5a36a539e"
      },
      "outputs": [
        {
          "output_type": "execute_result",
          "data": {
            "text/plain": [
              "9"
            ]
          },
          "metadata": {},
          "execution_count": 16
        }
      ],
      "source": [
        "M.size"
      ]
    },
    {
      "cell_type": "markdown",
      "metadata": {
        "id": "aQMg5ExEkGN0"
      },
      "source": [
        "Otra forma que puede ser útil para crear matrices es uniendo vectores previos, a través de `np.vstack`. Si los vectores están en columna, usaremos `np.hstack` para _unirlos horizontalmente_."
      ]
    },
    {
      "cell_type": "code",
      "execution_count": 36,
      "metadata": {
        "colab": {
          "base_uri": "https://localhost:8080/"
        },
        "id": "3nTwZm2MkGN0",
        "outputId": "58ec5dad-2004-412d-8e33-286abbd8cbe1"
      },
      "outputs": [
        {
          "output_type": "stream",
          "name": "stdout",
          "text": [
            "[[0 1 0]\n",
            " [1 0 0]\n",
            " [1 2 3]]\n"
          ]
        }
      ],
      "source": [
        "v3=np.array([[0,1,0]])\n",
        "v4=np.array([[1,0,0]])\n",
        "N=np.vstack([v3,v4,v1])   # matriz creada uniendo por filas v3, v4 y v1\n",
        "print(N)"
      ]
    },
    {
      "cell_type": "code",
      "execution_count": 37,
      "metadata": {
        "colab": {
          "base_uri": "https://localhost:8080/"
        },
        "id": "kNAxqYA7kGN1",
        "outputId": "519bd39a-c9c7-476c-f179-8be0cb6fcf20"
      },
      "outputs": [
        {
          "output_type": "stream",
          "name": "stdout",
          "text": [
            "[[ 5  1  1]\n",
            " [ 7  0  1]\n",
            " [-1  0  1]]\n"
          ]
        }
      ],
      "source": [
        "v5=np.array([[1],\n",
        "            [0],\n",
        "            [0]])\n",
        "v6=np.array([[1],\n",
        "            [1],\n",
        "            [1]])\n",
        "L=np.hstack([v2,v5,v6])   # en este caso, matriz creada uniendo por columnas v2, v5 y v6\n",
        "print(L)"
      ]
    },
    {
      "cell_type": "markdown",
      "metadata": {
        "id": "1OfNoOmhkGN1"
      },
      "source": [
        "### 3. Algunas matrices especiales\n",
        "\n",
        "Existen comandos que nos permiten crear directamente algunos tipos de matrices que utilizaremos frecuentemente. Por ejemplo, con `np.zeros((m,n))` podremos crear una **matriz nula** de dimensión $m \\times n$. La **matriz identidad** de dimensión $n$ la podemos construir a través de `np.eye(n)`, mientras que `np.ones((m,n))` nos crea una **matriz de unos** de dimensión $m\\times n$."
      ]
    },
    {
      "cell_type": "code",
      "execution_count": 22,
      "metadata": {
        "colab": {
          "base_uri": "https://localhost:8080/"
        },
        "id": "3TXYtuEtkGN2",
        "outputId": "d91c727c-cd35-4608-9064-d1e0fa7358be"
      },
      "outputs": [
        {
          "output_type": "stream",
          "name": "stdout",
          "text": [
            "[[0. 0. 0.]\n",
            " [0. 0. 0.]]\n",
            "[[1. 1. 1. 1. 1.]\n",
            " [1. 1. 1. 1. 1.]\n",
            " [1. 1. 1. 1. 1.]\n",
            " [1. 1. 1. 1. 1.]]\n",
            "[[1. 0. 0.]\n",
            " [0. 1. 0.]\n",
            " [0. 0. 1.]]\n",
            "[[6. 7. 7.]\n",
            " [7. 6. 7.]\n",
            " [7. 7. 6.]]\n"
          ]
        }
      ],
      "source": [
        "print(np.zeros((2,3)))\n",
        "print(np.ones((4,5))) #si queremos una de toda sietes multiplicamos esta por 7\n",
        "print(np.eye(3)) \n",
        "print(7*np.ones((3,3))-np.eye(3)) #si queremos una matriz entera de sietes y la diag. principal de 6. Hacemos 7*np.ones - np.eye\n"
      ]
    },
    {
      "cell_type": "markdown",
      "metadata": {
        "id": "T2pZ-zu4kGN2"
      },
      "source": [
        "Una **matriz de entradas constantes** $k$ puede ser construida de dos formas diferentes. Por ejemplo, a través del comando `np.full((m, n), k)`, o también _multiplicando_ el escalar $k$ por una matriz de unos (esto conlleva una _operación con matrices_ que veremos en la siguiente sección)."
      ]
    },
    {
      "cell_type": "code",
      "execution_count": 19,
      "metadata": {
        "colab": {
          "base_uri": "https://localhost:8080/"
        },
        "id": "UPNKZ8JWkGN2",
        "outputId": "c69316ef-38ce-420c-876b-c5ae88db9731"
      },
      "outputs": [
        {
          "output_type": "stream",
          "name": "stdout",
          "text": [
            "[[7 7 7 7]\n",
            " [7 7 7 7]\n",
            " [7 7 7 7]]\n",
            "[[7. 7. 7. 7.]\n",
            " [7. 7. 7. 7.]\n",
            " [7. 7. 7. 7.]]\n"
          ]
        }
      ],
      "source": [
        "print(np.full((3,4), 7))\n",
        "print(7*np.ones((3,4)))"
      ]
    },
    {
      "cell_type": "markdown",
      "metadata": {
        "id": "vesDHAzSkGN3"
      },
      "source": [
        "Una **matrix diagonal** con entradas $a_1, \\ldots, a_n$ puede ser creada a partir de `np.diag([ ])`, introduciendo dentro de los corchetes las entradas. Asimismo, con `np.diag(A)` podemos obtener un vector cuyas entradas son los elementos de la diagonal de la matriz $A$."
      ]
    },
    {
      "cell_type": "code",
      "execution_count": 38,
      "metadata": {
        "colab": {
          "base_uri": "https://localhost:8080/"
        },
        "id": "VfhndTWkkGN3",
        "outputId": "3cfbd92c-aad1-43ba-cb7e-8c8e153618f2"
      },
      "outputs": [
        {
          "output_type": "stream",
          "name": "stdout",
          "text": [
            "[[1 0 0 0 0]\n",
            " [0 2 0 0 0]\n",
            " [0 0 3 0 0]\n",
            " [0 0 0 4 0]\n",
            " [0 0 0 0 5]]\n",
            "[5 0 1]\n",
            "[[5 0 0]\n",
            " [0 0 0]\n",
            " [0 0 1]]\n"
          ]
        }
      ],
      "source": [
        "A=np.diag([1,2,3,4,5])\n",
        "print(A)\n",
        "\n",
        "print(np.diag(L))\n",
        "\n",
        "D=np.diag(np.diag(L))     # De esta forma obtenemos una matriz diagonal a partir de la diagonal de L\n",
        "print(D)"
      ]
    },
    {
      "cell_type": "markdown",
      "metadata": {
        "id": "gYhhS8a5kGN4"
      },
      "source": [
        "### 4. Operaciones con matrices\n",
        "\n",
        "Las **operaciones aritméticas** usuales `+,-,*,/` (suma, resta, multiplicación y división) y `**` (potencia) sobre listas se aplican **elemento a elemento**."
      ]
    },
    {
      "cell_type": "code",
      "execution_count": 27,
      "metadata": {
        "colab": {
          "base_uri": "https://localhost:8080/"
        },
        "id": "a88mPELPkGN4",
        "outputId": "b6489369-183b-4a63-fb75-38478221cc5d"
      },
      "outputs": [
        {
          "output_type": "stream",
          "name": "stdout",
          "text": [
            "[[ 1  0 -3]\n",
            " [ 2  5  0]\n",
            " [ 1  1 -4]]\n",
            "[[0 1 0]\n",
            " [1 0 0]\n",
            " [1 2 3]]\n",
            "[[ 1  1 -3]\n",
            " [ 3  5  0]\n",
            " [ 2  3 -1]]\n"
          ]
        }
      ],
      "source": [
        "print(M)\n",
        "print(N)\n",
        "print(M+N)"
      ]
    },
    {
      "cell_type": "code",
      "execution_count": 39,
      "metadata": {
        "colab": {
          "base_uri": "https://localhost:8080/"
        },
        "id": "Ffs4NG5FkGN4",
        "outputId": "bb729439-4454-43e3-ff85-de640660ded2"
      },
      "outputs": [
        {
          "output_type": "stream",
          "name": "stdout",
          "text": [
            "[[ 4  1  4]\n",
            " [ 5 -5  1]\n",
            " [-2 -1  5]]\n",
            "[[ 4  0  0]\n",
            " [ 6 -1  0]\n",
            " [-2 -1  0]]\n"
          ]
        }
      ],
      "source": [
        "print(L-M)\n",
        "print(L-1) #todo L menos una unidad"
      ]
    },
    {
      "cell_type": "code",
      "execution_count": 30,
      "metadata": {
        "colab": {
          "base_uri": "https://localhost:8080/"
        },
        "id": "96yoMKIMkGN4",
        "outputId": "d3845a6a-ee0d-4537-d455-b89ba0fa2826"
      },
      "outputs": [
        {
          "output_type": "stream",
          "name": "stdout",
          "text": [
            "[[  0   0   0]\n",
            " [  2   0   0]\n",
            " [  1   2 -12]]\n",
            "[[  1   0  -9]\n",
            " [  2  10   0]\n",
            " [  1   2 -12]]\n",
            "[[  5   0 -15]\n",
            " [ 14  35   0]\n",
            " [ -1  -1   4]]\n"
          ]
        }
      ],
      "source": [
        "print(M*N)                # multiplicada cada entrada de M por su correspondiente entrada en N. Producto elemento a elemento\n",
        "                          # NO es el producto de matrices estándar\n",
        "print(M*v1)               #se multiplica por el vector fila\n",
        "print(M*v2)"
      ]
    },
    {
      "cell_type": "code",
      "execution_count": 31,
      "metadata": {
        "colab": {
          "base_uri": "https://localhost:8080/"
        },
        "id": "tl9z71LnkGN5",
        "outputId": "7cceac81-5dc8-43e4-84b0-f00b4b662c9a"
      },
      "outputs": [
        {
          "output_type": "stream",
          "name": "stdout",
          "text": [
            "[[ 1  0  9]\n",
            " [ 4 25  0]\n",
            " [ 1  1 16]]\n",
            "[[4 6]]\n",
            "[[16 64]]\n"
          ]
        }
      ],
      "source": [
        "print(M**2)        # eleva cada elemento de M al cuadrado\n",
        "print(2*v)    \n",
        "print(2**(2*v))    # eleva el escalar 2 a cada entrada del vector 2*v=[4,7], es decir, crea el vector [2^4, 2^7]"
      ]
    },
    {
      "cell_type": "markdown",
      "metadata": {
        "id": "rclIDy5TkGN5"
      },
      "source": [
        "Para realizar el **producto de matrices estándar** entre dos matrices compatibles $M$ y $N$, debemos usar `M @ N` (los espacios realmente no son necesarios) o bien `M.dot(N)`."
      ]
    },
    {
      "cell_type": "code",
      "execution_count": 40,
      "metadata": {
        "colab": {
          "base_uri": "https://localhost:8080/"
        },
        "id": "3YIM8navkGN6",
        "outputId": "d2d76001-7d83-46a6-ead9-2610b94533f4"
      },
      "outputs": [
        {
          "output_type": "stream",
          "name": "stdout",
          "text": [
            "[[ 5  1  1]\n",
            " [ 7  0  1]\n",
            " [-1  0  1]]\n",
            "[[ 5]\n",
            " [ 7]\n",
            " [-1]]\n",
            "[[31]\n",
            " [34]\n",
            " [-6]]\n",
            "[[31]\n",
            " [34]\n",
            " [-6]]\n"
          ]
        }
      ],
      "source": [
        "print(L)\n",
        "print(v2)\n",
        "print(L @ v2) #multiplica matriz por vector columna. si las dimensiones no son correctas dará error.\n",
        "print(L.dot(v2))"
      ]
    },
    {
      "cell_type": "code",
      "execution_count": 44,
      "metadata": {
        "colab": {
          "base_uri": "https://localhost:8080/",
          "height": 170
        },
        "id": "QIXw5BgNkGN6",
        "outputId": "f9646735-538c-4afb-bac5-9e40c69e4a77"
      },
      "outputs": [
        {
          "output_type": "error",
          "ename": "ValueError",
          "evalue": "ignored",
          "traceback": [
            "\u001b[0;31m---------------------------------------------------------------------------\u001b[0m",
            "\u001b[0;31mValueError\u001b[0m                                Traceback (most recent call last)",
            "\u001b[0;32m<ipython-input-44-d0bac0399dde>\u001b[0m in \u001b[0;36m<module>\u001b[0;34m()\u001b[0m\n\u001b[0;32m----> 1\u001b[0;31m \u001b[0mM\u001b[0m\u001b[0;34m.\u001b[0m\u001b[0mdot\u001b[0m\u001b[0;34m(\u001b[0m\u001b[0mv1\u001b[0m\u001b[0;34m)\u001b[0m     \u001b[0;31m# Evidentemente, si las dimensiones no son compatibles, nos devolverá un mensaje de error\u001b[0m\u001b[0;34m\u001b[0m\u001b[0;34m\u001b[0m\u001b[0m\n\u001b[0m",
            "\u001b[0;31mValueError\u001b[0m: shapes (3,3) and (1,3) not aligned: 3 (dim 1) != 1 (dim 0)"
          ]
        }
      ],
      "source": [
        "M.dot(v1)     # Evidentemente, si las dimensiones no son compatibles, nos devolverá un mensaje de error"
      ]
    },
    {
      "cell_type": "markdown",
      "metadata": {
        "id": "V3lv9ObIkGN6"
      },
      "source": [
        "No hay un símbolo específico para calcular **potencias de una matriz** (recordemos que `**` calcula las potencias de los elementos, no de la matriz en sí). Por tanto, usaremos el comando `np.linalg.matrix_power(M, k)` proveniente del subpaquete `linalg` de `numpy` (recordemos que lo tenemos abreviado por `np`) para calcular la $k$-ésima potencia de $M$, i.e. $M^k$. "
      ]
    },
    {
      "cell_type": "code",
      "execution_count": 43,
      "metadata": {
        "colab": {
          "base_uri": "https://localhost:8080/"
        },
        "id": "utDhgiDPkGN7",
        "outputId": "be7fefc2-b649-45cf-9faa-9a2c5e5248c2"
      },
      "outputs": [
        {
          "output_type": "stream",
          "name": "stdout",
          "text": [
            "[[183  31  43]\n",
            " [211  34  49]\n",
            " [-37  -6  -7]]\n",
            "[[183  31  43]\n",
            " [211  34  49]\n",
            " [-37  -6  -7]]\n"
          ]
        }
      ],
      "source": [
        "print(np.linalg.matrix_power(L,3))         # L^3 calculada a través de la función np.linalg.matrix_power\n",
        "print(L@L@L)                               # L^3 calculada a través de multiplicar L tres veces"
      ]
    },
    {
      "cell_type": "markdown",
      "metadata": {
        "id": "UR8jT9LRkGN7"
      },
      "source": [
        "También es posible, por comodidad, abreviar el nombre de este comando, por ejemplo por `mpow`. "
      ]
    },
    {
      "cell_type": "code",
      "execution_count": 42,
      "metadata": {
        "colab": {
          "base_uri": "https://localhost:8080/"
        },
        "id": "VBPzYniekGN7",
        "outputId": "08bf2a3a-a8c4-4131-fe14-61b3b9c0479f"
      },
      "outputs": [
        {
          "output_type": "stream",
          "name": "stdout",
          "text": [
            "[[183  31  43]\n",
            " [211  34  49]\n",
            " [-37  -6  -7]]\n"
          ]
        }
      ],
      "source": [
        "from numpy.linalg import matrix_power as mpow \n",
        "\n",
        "# Típico error: \"from np.linalg import matrix_power as mpow\", no podemos usar la abreviatura np.linalg !!\n",
        "\n",
        "print(mpow(L, 3))"
      ]
    },
    {
      "cell_type": "markdown",
      "metadata": {
        "id": "ggB1jTzskGN8"
      },
      "source": [
        "La **traspuesta de una matriz** se puede calcular a partir del comando `.T`."
      ]
    },
    {
      "cell_type": "code",
      "execution_count": null,
      "metadata": {
        "id": "oSzQtQIwkGN8"
      },
      "outputs": [],
      "source": [
        "print(v1.T)\n",
        "print(v1@v1.T)     # producto escalar de v1 con v1"
      ]
    },
    {
      "cell_type": "markdown",
      "metadata": {
        "id": "eLDiM1jOkGN8"
      },
      "source": [
        "Usando el anterior comando, podemos calcular _manualmente_ la norma de un vector $v$, aunque también existe el comando `la.norm(v)` para calcularlo directamente."
      ]
    },
    {
      "cell_type": "code",
      "execution_count": null,
      "metadata": {
        "id": "ooNhg6i9kGN8"
      },
      "outputs": [],
      "source": [
        "print(np.sqrt(v1@v1.T))  # manualmente: de esta manera, el resultado obtenido es una matriz (pues multiplicamos dos matrices)\n",
        "print(np.sqrt(np.sum(v1*v1)))  # manualmente: de esta manera, multiplicamos elemento a elemento v1, sumamos y raíz cuadrada\n",
        "print(la.norm(v1))"
      ]
    },
    {
      "cell_type": "markdown",
      "metadata": {
        "id": "Lnwtm7FhkGN8"
      },
      "source": [
        "La **matriz inversa** de una matriz $M$ puede calcularse a través de `la.inv(M)`; su **traza** mediante `np.trace(M)`, su **determinante** a través de `la.det(M)` y su **rango** mediante `np.linalg.matrix_rank(M)`."
      ]
    },
    {
      "cell_type": "code",
      "execution_count": null,
      "metadata": {
        "id": "cEgS8UdFkGN9"
      },
      "outputs": [],
      "source": [
        "print(L)\n",
        "print(np.trace(L))\n",
        "print(la.det(L))    # distinto de cero, luego podemos calcular sin problema su inversa\n",
        "print(la.inv(L))\n",
        "print(L.dot(la.inv(L)))"
      ]
    },
    {
      "cell_type": "code",
      "execution_count": null,
      "metadata": {
        "id": "e_U6Ww4ikGN9"
      },
      "outputs": [],
      "source": [
        "from numpy.linalg import matrix_rank as rank     # abreviamos el comando para calcular rangos\n",
        "\n",
        "rank(L)"
      ]
    },
    {
      "cell_type": "markdown",
      "metadata": {
        "id": "e-z41kINkGN9"
      },
      "source": [
        "### 5. Submatrices\n",
        "\n",
        "\n",
        "Es posible trabajar con **submatrices** extraídas de una matriz $M$, usando expresiones como las siguientes:\n",
        "\n",
        "1. `M[i-1,j-1]` para el elemento que ocupa la posición fila $i$ y columna $j$\n",
        "2. `M[i-1:i,:]` para la fila $i$\n",
        "3. `M[:,j-1:j]` para la columna $j$\n",
        "4. `M[r-1:s,:]` para la submatriz formada por las filas entre la $r$ y la $s$\n",
        "5. `M[[r-1,s-1],:]` para la submatriz formada por las filas $r$ y $s$\n",
        "\n",
        "Observemos que estas expresiones también nos permiten hacer modificaciones en una matriz que ya ha sido introducida. Así, por ejemplo, si queremos modificar la fila $i$ de $M$, podemos escribir `M[i-1,:] = nueva fila`.\n",
        "\n",
        "Es importante recordar que los índices comienzan en el número 0 (i.e. la posición primera es el índice 0), por ello para seleccionar la fila $i$ escribimos el índice `i-1`. Además, por comodidad podemos utilizar el índice `-1` para seleccionar el último elemento, `-2` para el penúltimo, etc. Asimismo, los rangos `a:b` por defecto no seleccionan el último elemento `b`, luego acabaría en el `b-1` (por tanto, el rango `i-1:i` realmente solo contiene un número, el $i-1$).\n",
        "\n",
        "Ante la posible duda de porqué no usamos `M[:,j-1]` para seleccionar la columna $j$ de $M$ en vez de `M[:,j-1:j]`, es importante mencionar que la primera opción devuelve una lista y no un vector columna, luego no podríamos operar matricialmente de forma correcta. La segunda opción sí que devuelve un vector columna y esto se debe a una cuestión un poco técnica: aunque `j-1:j` solamente contiene el número $j-1$, tiene estructura de rango, luego _está en concordancia_ con el formato de filas seleccionado."
      ]
    },
    {
      "cell_type": "code",
      "execution_count": null,
      "metadata": {
        "id": "TAi4nR-fkGN-"
      },
      "outputs": [],
      "source": [
        "print(L)"
      ]
    },
    {
      "cell_type": "code",
      "execution_count": null,
      "metadata": {
        "id": "PSl-a2RwkGN-"
      },
      "outputs": [],
      "source": [
        "print(L[1,0])       # seleccionamos el elemento (2,1) de la matriz L\n",
        "L[1,1]=8            # cambiamos el elemento (2,2) de la matriz L por un 8, es decir, cambiamos el 0 por 8\n",
        "print(L)"
      ]
    },
    {
      "cell_type": "markdown",
      "metadata": {
        "id": "XhUHe_f9kGN-"
      },
      "source": [
        "Observemos que $L$ ha cambiado. Si no queríamos perder la matriz $L$ inicial, sería mejor hacer las modificaciones sobre una _copia_ de la matriz $L$, digamos $L1$. Esto es posible mediante el comando `L.copy()`. (¡No vale con asignar `L1=L`, pues los cambios se realizarán igualmente sobre ambas matrices!)"
      ]
    },
    {
      "cell_type": "code",
      "execution_count": null,
      "metadata": {
        "id": "kMuDxDIikGN-"
      },
      "outputs": [],
      "source": [
        "L1=L.copy()\n",
        "L1[:,1]=[5,5,4]\n",
        "print(L1)\n",
        "print(L)"
      ]
    },
    {
      "cell_type": "code",
      "execution_count": null,
      "metadata": {
        "id": "P9F736_zkGN_"
      },
      "outputs": [],
      "source": [
        "print(L[[1,2],:])    # seleccionamos las dos últimas filas de L\n",
        "print(L[1:,:])       # equivalentemente: \"1:\" significa que seleccionamos el rango que empieza en el 1 hasta \"el final\""
      ]
    },
    {
      "cell_type": "code",
      "execution_count": null,
      "metadata": {
        "id": "PABHvE04kGN_"
      },
      "outputs": [],
      "source": [
        "I=np.random.rand(5,5)         # creamos una matriz 5 x 5 de elementos aleatorios\n",
        "print(I)\n",
        "print(I[[1,-2],0:4])          # seleccionamos las filas 2 y 4, y las columnas de la 1 a la 4"
      ]
    },
    {
      "cell_type": "code",
      "execution_count": null,
      "metadata": {
        "id": "BrjJ2u1XkGN_"
      },
      "outputs": [],
      "source": [
        "print(I[4:5,:])                 # seleccionamos la última fila de I\n",
        "print(I[:,2:3])                 # seleccionamos la tercera columna de I"
      ]
    },
    {
      "cell_type": "markdown",
      "metadata": {
        "id": "7BzAnv0ZkGOA"
      },
      "source": [
        "### 6. Ejercicios\n",
        "\n",
        "1. Dados los números $x = 14.32$, $y = 27.12$ y $z = 3.5$, calcula el valor de la expresión $\\dfrac{8x+y^2}{2-\\sqrt[6]{x^3+\\frac{1}{z}}}$. (Solución: -476.424)\n",
        "\n",
        "\n",
        "2. Crea la matriz $M=(m_{ij})$ de orden $50 \\times 50$ tal que $m_{ii} = 10$ y $m_{ij} = 0$ para $i\\neq j$.\n",
        "\n",
        "\n",
        "3. Dados los vectores $u = \\left(\\frac{1}{4}, -\\frac{1}{6}, \\frac{5}{6}\\right)$ y $v = \\left(\\frac{1}{5}, \\frac{3}{4}, -\\frac{2}{3}\\right)$, calcula el producto escalar de ambos vectores. (Solución: -0.63055)\n",
        "\n",
        "\n",
        "4. Dada la matriz $A=\\begin{pmatrix} 1&2&3\\\\7&8&9\\\\4&5&6\\end{pmatrix}$, calcula la matriz $Z=A^3+16A^2-A^{\\text{t}}+2I$, siendo $A^{\\text{t}}$ la transpuesta de $A$ e $I$ la matriz identidad $3\\times 3$. (Solución: $Z=\\begin{pmatrix} 847&1034&1232\\\\3130&3879&4633\\\\1986&2454&2933 \\end{pmatrix}$)\n",
        "\n",
        "\n",
        "5. Considera el vector $V=\\begin{pmatrix} 1\\\\7\\\\6 \\end{pmatrix}$. Calcula la matriz $ZV$, siendo $Z$ la matriz del ejercicio anterior. (Solución: $ZV=\\begin{pmatrix} 15477\\\\ 58081\\\\ 36762\\end{pmatrix}$)\n",
        "\n",
        "\n",
        "6. Calcula el determinante de la siguiente matriz (estas matrices se denominan _circulantes_ ). $C=\\begin{pmatrix} 1& 2& 3& 4& 5\\\\2& 3& 4& 5& 1 \\\\ 3& 4& 5& 1& 2\\\\ 4& 5& 1& 2& 3\\\\ 5& 1& 2& 3& 4\\end{pmatrix}$. (Ayuda: puedes introducir rápidamente la matriz C con el comando `C = la.circulant([1,2,3,4,5])[:,[0,4,3,2,1]]`) (Solución: 1875)"
      ]
    },
    {
      "cell_type": "code",
      "execution_count": 54,
      "metadata": {
        "colab": {
          "base_uri": "https://localhost:8080/"
        },
        "id": "CumUKe_ckGOA",
        "outputId": "8d9c0b9e-7bef-4934-ea5a-8a57f70c91dd"
      },
      "outputs": [
        {
          "output_type": "stream",
          "name": "stdout",
          "text": [
            "-476.42408024768383\n"
          ]
        }
      ],
      "source": [
        "#EJERCICIO 1\n",
        "x= 14.32\n",
        "y=27.12\n",
        "z=3.5\n",
        "u=(8*x+y**2) #numerador\n",
        "l=2-(x**3+1/z)**(1/6)\n",
        "print(u/l)\n"
      ]
    },
    {
      "cell_type": "code",
      "source": [
        "#EJERCICIO 2: en la diagonal todo 10, lo demás ceros\n",
        "np.eye(50)\n",
        "print (10*np.eye(50))"
      ],
      "metadata": {
        "colab": {
          "base_uri": "https://localhost:8080/"
        },
        "id": "4Xccq9mGvA5Y",
        "outputId": "d92b6e91-d67a-4f3c-cfe6-876791bfefb6"
      },
      "execution_count": 65,
      "outputs": [
        {
          "output_type": "stream",
          "name": "stdout",
          "text": [
            "[[10.  0.  0. ...  0.  0.  0.]\n",
            " [ 0. 10.  0. ...  0.  0.  0.]\n",
            " [ 0.  0. 10. ...  0.  0.  0.]\n",
            " ...\n",
            " [ 0.  0.  0. ... 10.  0.  0.]\n",
            " [ 0.  0.  0. ...  0. 10.  0.]\n",
            " [ 0.  0.  0. ...  0.  0. 10.]]\n"
          ]
        }
      ]
    },
    {
      "cell_type": "code",
      "source": [
        "u=np.array([[1/4,-1/6,5/6]])\n",
        "v=np.array([[1/5,3/4,-2/3]])\n",
        "print(u*v)\n"
      ],
      "metadata": {
        "colab": {
          "base_uri": "https://localhost:8080/"
        },
        "id": "BWiAOAfRxX4B",
        "outputId": "07de10ed-5845-42e7-f71b-35c4d73d652a"
      },
      "execution_count": 83,
      "outputs": [
        {
          "output_type": "stream",
          "name": "stdout",
          "text": [
            "[[ 0.05       -0.125      -0.55555556]]\n"
          ]
        }
      ]
    },
    {
      "cell_type": "code",
      "source": [
        ""
      ],
      "metadata": {
        "id": "klVP1oqnzO7b"
      },
      "execution_count": null,
      "outputs": []
    }
  ],
  "metadata": {
    "kernelspec": {
      "display_name": "Python 3",
      "language": "python",
      "name": "python3"
    },
    "language_info": {
      "codemirror_mode": {
        "name": "ipython",
        "version": 3
      },
      "file_extension": ".py",
      "mimetype": "text/x-python",
      "name": "python",
      "nbconvert_exporter": "python",
      "pygments_lexer": "ipython3",
      "version": "3.6.13"
    },
    "colab": {
      "name": "L1. Matrices.ipynb",
      "provenance": [],
      "include_colab_link": true
    }
  },
  "nbformat": 4,
  "nbformat_minor": 0
}