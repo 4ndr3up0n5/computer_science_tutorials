{
 "cells": [
  {
   "cell_type": "markdown",
   "source": [
    "1. Write down a function that takes a string as a parameter and returns the same string in reverse order."
   ],
   "metadata": {}
  },
  {
   "cell_type": "markdown",
   "source": [
    "2. Write down a function that takes an arbitrary number of strings as parameters and returns the total number of words in all of them"
   ],
   "metadata": {}
  },
  {
   "cell_type": "markdown",
   "source": [
    "3. Write down a function named \"array_power\" that takes an arbitrary number of integers, and a named parameter \"base\" with default value 2 and returns the power of the base parameter to the sum of the integers. e.g array_power(1, 2) returns 8 and array_power(1, 1, 1, base=3) returns 27. "
   ],
   "metadata": {}
  },
  {
   "cell_type": "markdown",
   "source": [
    "4. Write down a polygon class that has a property named sizes representing the number of sizes. Write down a class rectangle and a class triangle that extend the polygon class and has a method that returns the area of the polygon."
   ],
   "metadata": {}
  },
  {
   "cell_type": "markdown",
   "source": [
    "5. Write down a class to store personal data of your customers, with properties \"first_name\", and \"family_name\". Implement a method that returns the initials of the customer. "
   ],
   "metadata": {}
  }
 ],
 "metadata": {
  "orig_nbformat": 4,
  "language_info": {
   "name": "python"
  }
 },
 "nbformat": 4,
 "nbformat_minor": 2
}