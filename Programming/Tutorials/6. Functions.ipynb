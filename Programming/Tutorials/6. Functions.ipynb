{
 "cells": [
  {
   "cell_type": "markdown",
   "source": [
    "# Functions\n",
    "Functions are a convenient way to divide your code into useful blocks, allowing us to order our code, make it more readable, reuse it and save some time."
   ],
   "metadata": {}
  },
  {
   "cell_type": "markdown",
   "source": [
    "Functions are defined with the keyword `def` and the code inside a function must be indented. The code inside a function is executed when you call the function, not when you define it."
   ],
   "metadata": {}
  },
  {
   "cell_type": "code",
   "execution_count": 1,
   "source": [
    "def first_function():\r\n",
    "    print(\"This is a function\")"
   ],
   "outputs": [],
   "metadata": {}
  },
  {
   "cell_type": "markdown",
   "source": [
    "In order to call a function, just write the name of the function. If a function has no parameters, you must write the parenthesis with nothing inside."
   ],
   "metadata": {}
  },
  {
   "cell_type": "code",
   "execution_count": 5,
   "source": [
    "# Call the function\r\n",
    "first_function()"
   ],
   "outputs": [
    {
     "output_type": "stream",
     "name": "stdout",
     "text": [
      "This is a function\n"
     ]
    }
   ],
   "metadata": {}
  },
  {
   "cell_type": "markdown",
   "source": [
    "## Arguments\r\n",
    "Functions can recieve arguments (parameters) from the caller to perform operations on them."
   ],
   "metadata": {}
  },
  {
   "cell_type": "code",
   "execution_count": 9,
   "source": [
    "def greetings(username):\r\n",
    "    print(\"Hello\", username, \"!\")\r\n",
    "    \r\n",
    "greetings(\"John\")"
   ],
   "outputs": [
    {
     "output_type": "stream",
     "name": "stdout",
     "text": [
      "Hello John !\n"
     ]
    }
   ],
   "metadata": {}
  },
  {
   "cell_type": "code",
   "execution_count": 10,
   "source": [
    "def sum_two_numbers(a, b):\r\n",
    "    return a + b\r\n",
    "\r\n",
    "addition = sum_two_numbers(5, 6)\r\n",
    "print(addition)"
   ],
   "outputs": [
    {
     "output_type": "stream",
     "name": "stdout",
     "text": [
      "11\n"
     ]
    }
   ],
   "metadata": {}
  },
  {
   "cell_type": "markdown",
   "source": [
    "Named arguments can have a default value assigned in the definition of the parameter. We do not need to provide a value to these arguments to use the function, if not provided, the default value will be used:"
   ],
   "metadata": {}
  },
  {
   "cell_type": "code",
   "execution_count": 9,
   "source": [
    "def my_power(a, b=2):\r\n",
    "    return b**a\r\n",
    "\r\n",
    "print(my_power(a=3))\r\n",
    "print(my_power(a=2, b=3))"
   ],
   "outputs": [
    {
     "output_type": "stream",
     "name": "stdout",
     "text": [
      "8\n",
      "9\n"
     ]
    }
   ],
   "metadata": {}
  },
  {
   "cell_type": "markdown",
   "source": [
    "**Warning!** non-default (i.e. parameters without a default value) parameters must precede default parameters"
   ],
   "metadata": {}
  },
  {
   "cell_type": "markdown",
   "source": [
    "Functions can use an arbitrary number of arguments **packed** in a tuple variable (see the 9. Iterable Objects II.ipynb tutorial for more on packing):"
   ],
   "metadata": {}
  },
  {
   "cell_type": "code",
   "execution_count": 7,
   "source": [
    "# This function will print the summands and return the sum\r\n",
    "def sum_numbers(*summands):\r\n",
    "    print(\"adding up numbers:\")\r\n",
    "    print(summands) # Note that the summands are packed into a tuple\r\n",
    "    return sum(summands) # the built-in function sum adds the members of the iterable passed as an argument\r\n",
    "\r\n",
    "c = sum_numbers(1, 3, 4) \r\n",
    "print(\"the sum is: \")\r\n",
    "print(c)\r\n",
    "d = sum_numbers(4,5,6,7)"
   ],
   "outputs": [
    {
     "output_type": "stream",
     "name": "stdout",
     "text": [
      "adding up numbers:\n",
      "(1, 3, 4)\n",
      "the sum is: \n",
      "8\n",
      "adding up numbers:\n",
      "(4, 5, 6, 7)\n"
     ]
    }
   ],
   "metadata": {}
  },
  {
   "cell_type": "markdown",
   "source": [
    "**Note:** In the example above, the parameters do not have names, we can also pack named parameters into dictionaries:"
   ],
   "metadata": {}
  },
  {
   "cell_type": "code",
   "execution_count": 11,
   "source": [
    "def my_power(a, b=2):\r\n",
    "    return b**a\r\n",
    "\r\n",
    "dict_1 = {\"a\": 3}\r\n",
    "print(my_power(**dict_1)) # Parameter a is packed into a dictionary, then unpacked and passed to the function\r\n",
    "dict_2 = {\"a\":2, \"b\": 3}\r\n",
    "print(my_power(**dict_2))"
   ],
   "outputs": [
    {
     "output_type": "stream",
     "name": "stdout",
     "text": [
      "8\n",
      "9\n"
     ]
    }
   ],
   "metadata": {}
  },
  {
   "cell_type": "markdown",
   "source": [
    "## Variables Scope\r\n",
    "It is important to note that the variables defined and assigned within a function are **local**, or have a local **scope**, which means that they cannot be accessed outside the function. Conversely, the variables that we define before the definition of the function are **global**, or have a global scope and can be accessed in the scope of the function."
   ],
   "metadata": {}
  },
  {
   "cell_type": "code",
   "execution_count": 1,
   "source": [
    "def sum_two_numbers(a,b):\r\n",
    "    c = a + b #c is defined and assigned inside the function as the sum of a and b\r\n",
    "    return c\r\n",
    "\r\n",
    "print(sum_two_numbers(3,2)) # This works, because c is defined when the function is called\r\n",
    "print(c) #This won´t work because c does not exist in this context, only in the context of the function"
   ],
   "outputs": [
    {
     "output_type": "stream",
     "name": "stdout",
     "text": [
      "5\n"
     ]
    },
    {
     "output_type": "error",
     "ename": "NameError",
     "evalue": "name 'c' is not defined",
     "traceback": [
      "\u001b[1;31m---------------------------------------------------------------------------\u001b[0m",
      "\u001b[1;31mNameError\u001b[0m                                 Traceback (most recent call last)",
      "\u001b[1;32m<ipython-input-1-89928d6f07d6>\u001b[0m in \u001b[0;36m<module>\u001b[1;34m\u001b[0m\n\u001b[0;32m      4\u001b[0m \u001b[1;33m\u001b[0m\u001b[0m\n\u001b[0;32m      5\u001b[0m \u001b[0mprint\u001b[0m\u001b[1;33m(\u001b[0m\u001b[0msum_two_numbers\u001b[0m\u001b[1;33m(\u001b[0m\u001b[1;36m3\u001b[0m\u001b[1;33m,\u001b[0m\u001b[1;36m2\u001b[0m\u001b[1;33m)\u001b[0m\u001b[1;33m)\u001b[0m \u001b[1;31m# This works, because c is defined when the function is called\u001b[0m\u001b[1;33m\u001b[0m\u001b[1;33m\u001b[0m\u001b[0m\n\u001b[1;32m----> 6\u001b[1;33m \u001b[0mprint\u001b[0m\u001b[1;33m(\u001b[0m\u001b[0mc\u001b[0m\u001b[1;33m)\u001b[0m \u001b[1;31m#This won´t work because c does not exist in this context, only in the context of the function\u001b[0m\u001b[1;33m\u001b[0m\u001b[1;33m\u001b[0m\u001b[0m\n\u001b[0m",
      "\u001b[1;31mNameError\u001b[0m: name 'c' is not defined"
     ]
    }
   ],
   "metadata": {}
  },
  {
   "cell_type": "markdown",
   "source": [
    "Can you write a function to reverse a given text? The function will accept the text as a parameter and will return the sentence in reverse order."
   ],
   "metadata": {}
  },
  {
   "cell_type": "code",
   "execution_count": null,
   "source": [
    "# define \"reverse\" function and use it to reverse \"sentence\" variable\r\n",
    "\r\n",
    "sentence = \"No lemon, no melon\"\r\n",
    "print(reverse(sentence))"
   ],
   "outputs": [],
   "metadata": {}
  },
  {
   "cell_type": "markdown",
   "source": [
    "Import external modules\n",
    "---\n",
    "You can use external modules o libraries using the keyword `import`. This libraries contains functions you can use and you don't need to rewrite."
   ],
   "metadata": {}
  },
  {
   "cell_type": "code",
   "execution_count": 2,
   "source": [
    "import math\r\n",
    "\r\n",
    "print(math.pi)"
   ],
   "outputs": [
    {
     "output_type": "stream",
     "name": "stdout",
     "text": [
      "3.141592653589793\n"
     ]
    }
   ],
   "metadata": {}
  },
  {
   "cell_type": "code",
   "execution_count": null,
   "source": [],
   "outputs": [],
   "metadata": {}
  }
 ],
 "metadata": {
  "kernelspec": {
   "name": "python3",
   "display_name": "Python 3.8.1 64-bit"
  },
  "language_info": {
   "codemirror_mode": {
    "name": "ipython",
    "version": 3
   },
   "file_extension": ".py",
   "mimetype": "text/x-python",
   "name": "python",
   "nbconvert_exporter": "python",
   "pygments_lexer": "ipython3",
   "version": "3.8.1"
  },
  "interpreter": {
   "hash": "2db524e06e9f5f4ffedc911c917cb75e12dbc923643829bf417064a77eb14d37"
  }
 },
 "nbformat": 4,
 "nbformat_minor": 4
}