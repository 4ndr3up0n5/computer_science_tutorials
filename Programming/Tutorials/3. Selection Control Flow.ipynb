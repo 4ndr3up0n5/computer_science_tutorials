{
 "cells": [
  {
   "cell_type": "markdown",
   "metadata": {},
   "source": [
    "Control flow\n",
    "================\n",
    "Boolean operators\n",
    "---\n",
    "\n",
    "Boolean variables are used to evaluate conditions. The boolean values **True** and **False** are returned when an expression is compared or evaluated."
   ]
  },
  {
   "cell_type": "code",
   "execution_count": 1,
   "metadata": {},
   "outputs": [
    {
     "name": "stdout",
     "output_type": "stream",
     "text": [
      "True\n",
      "False\n",
      "True\n"
     ]
    }
   ],
   "source": [
    "x = 2\n",
    "print(x == 2) # prints out True\n",
    "print(x == 3) # prints out False\n",
    "print(x < 3) # prints out True"
   ]
  },
  {
   "cell_type": "code",
   "execution_count": 1,
   "metadata": {},
   "outputs": [
    {
     "name": "stdout",
     "output_type": "stream",
     "text": [
      "True\n",
      "False\n",
      "False\n",
      "True\n"
     ]
    }
   ],
   "source": [
    "print(3 < 4)\n",
    "print(3 == 4)\n",
    "print(3 > 4)\n",
    "print(3 != 4)"
   ]
  },
  {
   "cell_type": "markdown",
   "metadata": {},
   "source": [
    "Notice that variable assignment is done using a single equals operator `=`, whereas comparison between two variables is done using the double equals operator `==`. The \"not equals\" operator is marked as `!=`."
   ]
  },
  {
   "cell_type": "markdown",
   "metadata": {},
   "source": [
    "Conditional expressions\n",
    "--------\n",
    "Use `if` to check a condition.\n",
    "\n",
    "*NOTE: Be aware of indentation!*"
   ]
  },
  {
   "cell_type": "code",
   "execution_count": null,
   "metadata": {},
   "outputs": [],
   "source": [
    "x = 2\n",
    "if x == 2:\n",
    "    print(\"x equals two!\")\n",
    "else:\n",
    "    print(\"x does not equal to two.\")"
   ]
  },
  {
   "cell_type": "markdown",
   "metadata": {},
   "source": [
    "The *not* operator\n",
    "------------"
   ]
  },
  {
   "cell_type": "code",
   "execution_count": 1,
   "metadata": {},
   "outputs": [
    {
     "name": "stdout",
     "output_type": "stream",
     "text": [
      "x is not 3\n"
     ]
    }
   ],
   "source": [
    "x = 2\n",
    "if not x == 3:\n",
    "    print(\"x is not 3\")"
   ]
  },
  {
   "cell_type": "markdown",
   "metadata": {},
   "source": [
    "Compounded conditionals\n",
    "------------\n",
    "You can use `and` or `or` to combine conditions. In large compounded conditionals, parentheses can be also used (and highly recommended)."
   ]
  },
  {
   "cell_type": "code",
   "execution_count": 2,
   "metadata": {},
   "outputs": [
    {
     "name": "stdout",
     "output_type": "stream",
     "text": [
      "Both are true\n",
      "At least one condition is true\n"
     ]
    }
   ],
   "source": [
    "x = 3\n",
    "y = 5\n",
    "if x == 3 and y == 5:\n",
    "    print(\"Both are true\")\n",
    "if x == 3 or y == 4:\n",
    "    print(\"At least one condition is true\")"
   ]
  },
  {
   "cell_type": "code",
   "execution_count": 2,
   "metadata": {},
   "outputs": [
    {
     "name": "stdout",
     "output_type": "stream",
     "text": [
      "x is 3\n"
     ]
    }
   ],
   "source": [
    "x = 3\n",
    "if x == 2:\n",
    "    print(\"x is 2\")\n",
    "else:\n",
    "    print(\"x is 3\")"
   ]
  },
  {
   "cell_type": "markdown",
   "metadata": {},
   "source": [
    "Nested if: one *if* inside another *if*\n",
    "------------\n",
    "The keyword `elif` can be used when an `if` follows an `else` clause."
   ]
  },
  {
   "cell_type": "code",
   "execution_count": 3,
   "metadata": {},
   "outputs": [
    {
     "name": "stdout",
     "output_type": "stream",
     "text": [
      "Yes!\n"
     ]
    }
   ],
   "source": [
    "false_statement = False\n",
    "true_statement = True\n",
    "if false_statement is True:\n",
    "    print(\"Can't be possible\")\n",
    "elif true_statement is True: # else if\n",
    "    print(\"Yes!\")\n",
    "else:\n",
    "    print(\"Never here\")"
   ]
  },
  {
   "cell_type": "markdown",
   "metadata": {},
   "source": [
    "A statement is evaluated as true if one of the following is correct:\n",
    "1. The \"True\" boolean variable is given, or calculated using an expression, such as an arithmetic comparison.\n",
    "2. An object which is not considered \"empty\" is passed.\n",
    "\n",
    "Objects which are considered as empty:\n",
    "1. An empty string: \"\"\n",
    "2. An empty list: []\n",
    "3. The number zero: 0\n",
    "4. The false boolean variable: False"
   ]
  },
  {
   "cell_type": "markdown",
   "metadata": {},
   "source": [
    "Search in a List\n",
    "---\n",
    "Use the `in` operator to know if an object is in a list."
   ]
  },
  {
   "cell_type": "code",
   "execution_count": 3,
   "metadata": {},
   "outputs": [
    {
     "name": "stdout",
     "output_type": "stream",
     "text": [
      "Your name is either Paco or Pepe.\n"
     ]
    }
   ],
   "source": [
    "name = \"Paco\"\n",
    "if name in [\"Paco\", \"Pepe\"]:\n",
    "    print(\"Your name is either Paco or Pepe.\")"
   ]
  },
  {
   "cell_type": "code",
   "execution_count": null,
   "metadata": {},
   "outputs": [],
   "source": []
  }
 ],
 "metadata": {
  "kernelspec": {
   "display_name": "Python 3",
   "language": "python",
   "name": "python3"
  },
  "language_info": {
   "codemirror_mode": {
    "name": "ipython",
    "version": 3
   },
   "file_extension": ".py",
   "mimetype": "text/x-python",
   "name": "python",
   "nbconvert_exporter": "python",
   "pygments_lexer": "ipython3",
   "version": "3.8.4"
  },
  "pycharm": {
   "stem_cell": {
    "cell_type": "raw",
    "source": [],
    "metadata": {
     "collapsed": false
    }
   }
  }
 },
 "nbformat": 4,
 "nbformat_minor": 4
}