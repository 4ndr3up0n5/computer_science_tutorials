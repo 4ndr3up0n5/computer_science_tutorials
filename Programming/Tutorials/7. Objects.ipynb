{
 "cells": [
  {
   "cell_type": "markdown",
   "metadata": {},
   "source": [
    "Object-oriented design\n",
    "===\n",
    "A **class** is an object definition. Use the keyword `class` to create a class.  "
   ]
  },
  {
   "cell_type": "code",
   "execution_count": 1,
   "metadata": {},
   "outputs": [],
   "source": [
    "class MyClass(object):\n",
    "    \n",
    "    def __init__(self, attr1, attr2):\n",
    "        self.attribute1 = attr1\n",
    "        self.attribute2 = attr2\n",
    "        \n",
    "    def show(self):\n",
    "        print(self.attribute1)\n",
    "        print(self.attribute2)"
   ]
  },
  {
   "cell_type": "markdown",
   "metadata": {},
   "source": [
    "Encapsulation\n",
    "-------\n",
    "Attributes and methods are defined inside the class and for every object.  \n",
    "The *\\_\\_init\\_\\_* function is the **constructor**, it is automatically called when we *instantiate* an object."
   ]
  },
  {
   "cell_type": "code",
   "execution_count": 2,
   "metadata": {},
   "outputs": [],
   "source": [
    "class Polygon(object):\n",
    "    def __init__(self, sides):\n",
    "        self.sides = sides\n",
    "        \n",
    "    def print_number_of_sides(self):\n",
    "        print(self.sides)"
   ]
  },
  {
   "cell_type": "code",
   "execution_count": 28,
   "metadata": {},
   "outputs": [
    {
     "name": "stdout",
     "output_type": "stream",
     "text": [
      "7\n",
      "7\n"
     ]
    }
   ],
   "source": [
    "poly = Polygon(7)\n",
    "poly.print_number_of_sides()\n",
    "print(poly.sides)"
   ]
  },
  {
   "cell_type": "markdown",
   "metadata": {},
   "source": [
    "Abstraction\n",
    "-------\n",
    "We can create a subclass. All methods and attributes from the *parent* class will be available and can be extended."
   ]
  },
  {
   "cell_type": "code",
   "execution_count": 3,
   "metadata": {},
   "outputs": [],
   "source": [
    "class Square(Polygon):\n",
    "    def __init__(self, color):\n",
    "        super().__init__(4)\n",
    "        self.color = color\n",
    "    def change_color(self, new_color):\n",
    "        self.color = new_color\n",
    "    def print_color(self):\n",
    "        print(self.color)"
   ]
  },
  {
   "cell_type": "code",
   "execution_count": 4,
   "metadata": {},
   "outputs": [
    {
     "name": "stdout",
     "output_type": "stream",
     "text": [
      "4\n",
      "blue\n",
      "red\n"
     ]
    }
   ],
   "source": [
    "s = Square(\"blue\")\n",
    "s.print_number_of_sides()\n",
    "s.print_color()\n",
    "s.change_color(\"red\")\n",
    "s.print_color()"
   ]
  },
  {
   "cell_type": "markdown",
   "metadata": {},
   "source": [
    "Inheritance\n",
    "------\n",
    "Reuse code from parent and share common code."
   ]
  },
  {
   "cell_type": "code",
   "execution_count": 5,
   "metadata": {},
   "outputs": [],
   "source": [
    "class Pentagon(Polygon):\n",
    "    def __init__(self):\n",
    "        super().__init__(5)"
   ]
  },
  {
   "cell_type": "code",
   "execution_count": 6,
   "metadata": {},
   "outputs": [
    {
     "name": "stdout",
     "output_type": "stream",
     "text": [
      "5\n",
      "5\n"
     ]
    }
   ],
   "source": [
    "pent = Pentagon()\n",
    "pent.print_number_of_sides()\n",
    "print(pent.sides)"
   ]
  },
  {
   "cell_type": "markdown",
   "metadata": {},
   "source": [
    "Polymorphism\n",
    "-------\n",
    "Objects with a common base can implement the same methods doing different things."
   ]
  },
  {
   "cell_type": "code",
   "execution_count": 7,
   "metadata": {},
   "outputs": [],
   "source": [
    "class Triangle(Polygon):\n",
    "    def __init__(self):\n",
    "        super().__init__(3)\n",
    "    def draw(self):\n",
    "        print(\"- - -\")\n",
    "        \n",
    "class Hexagon(Polygon):\n",
    "    def __init__(self):\n",
    "        super().__init__(6)\n",
    "    def draw(self):\n",
    "        print(\"- - - - - -\")"
   ]
  },
  {
   "cell_type": "code",
   "execution_count": 8,
   "metadata": {},
   "outputs": [
    {
     "name": "stdout",
     "output_type": "stream",
     "text": [
      "- - -\n",
      "- - - - - -\n"
     ]
    }
   ],
   "source": [
    "t = Triangle()\n",
    "h = Hexagon()\n",
    "t.draw()\n",
    "h.draw()"
   ]
  },
  {
   "cell_type": "code",
   "execution_count": 9,
   "metadata": {},
   "outputs": [
    {
     "name": "stdout",
     "output_type": "stream",
     "text": [
      "- - -\n",
      "- - - - - -\n",
      "- - - - - -\n",
      "- - -\n",
      "- - - - - -\n"
     ]
    }
   ],
   "source": [
    "# Even we can call draw method without knowing which kind of polygon is\n",
    "polygons = [t, h, h, t, h]\n",
    "for p in polygons:\n",
    "    p.draw()"
   ]
  },
  {
   "cell_type": "code",
   "execution_count": null,
   "metadata": {},
   "outputs": [],
   "source": []
  }
 ],
 "metadata": {
  "kernelspec": {
   "display_name": "Python 3",
   "language": "python",
   "name": "python3"
  },
  "language_info": {
   "codemirror_mode": {
    "name": "ipython",
    "version": 3
   },
   "file_extension": ".py",
   "mimetype": "text/x-python",
   "name": "python",
   "nbconvert_exporter": "python",
   "pygments_lexer": "ipython3",
   "version": "3.8.4"
  }
 },
 "nbformat": 4,
 "nbformat_minor": 4
}
